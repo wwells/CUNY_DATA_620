{
 "cells": [
  {
   "cell_type": "code",
   "execution_count": 18,
   "metadata": {
    "collapsed": true
   },
   "outputs": [],
   "source": [
    "import networkx.generators.small\n",
    "from networkx import algorithms"
   ]
  },
  {
   "cell_type": "code",
   "execution_count": 3,
   "metadata": {},
   "outputs": [],
   "source": [
    "g = networkx.generators.small.krackhardt_kite_graph()"
   ]
  },
  {
   "cell_type": "code",
   "execution_count": 5,
   "metadata": {},
   "outputs": [
    {
     "data": {
      "text/plain": [
       "18"
      ]
     },
     "execution_count": 5,
     "metadata": {},
     "output_type": "execute_result"
    }
   ],
   "source": [
    "g.number_of_edges()"
   ]
  },
  {
   "cell_type": "code",
   "execution_count": 6,
   "metadata": {},
   "outputs": [
    {
     "data": {
      "text/plain": [
       "10"
      ]
     },
     "execution_count": 6,
     "metadata": {},
     "output_type": "execute_result"
    }
   ],
   "source": [
    "g.number_of_nodes()"
   ]
  },
  {
   "cell_type": "code",
   "execution_count": 7,
   "metadata": {},
   "outputs": [
    {
     "data": {
      "text/plain": [
       "[[1, 2, 3, 5],\n",
       " [0, 3, 4, 6],\n",
       " [0, 3, 5],\n",
       " [0, 1, 2, 4, 5, 6],\n",
       " [1, 3, 6],\n",
       " [0, 2, 3, 6, 7],\n",
       " [1, 3, 4, 5, 7],\n",
       " [8, 5, 6],\n",
       " [9, 7],\n",
       " [8]]"
      ]
     },
     "execution_count": 7,
     "metadata": {},
     "output_type": "execute_result"
    }
   ],
   "source": [
    "g.adjacency_list()"
   ]
  },
  {
   "cell_type": "code",
   "execution_count": 8,
   "metadata": {},
   "outputs": [
    {
     "data": {
      "text/plain": [
       "[(0, 1),\n",
       " (0, 2),\n",
       " (0, 3),\n",
       " (0, 5),\n",
       " (1, 3),\n",
       " (1, 4),\n",
       " (1, 6),\n",
       " (2, 3),\n",
       " (2, 5),\n",
       " (3, 4),\n",
       " (3, 5),\n",
       " (3, 6),\n",
       " (4, 6),\n",
       " (5, 6),\n",
       " (5, 7),\n",
       " (6, 7),\n",
       " (7, 8),\n",
       " (8, 9)]"
      ]
     },
     "execution_count": 8,
     "metadata": {},
     "output_type": "execute_result"
    }
   ],
   "source": [
    "g.edges()"
   ]
  },
  {
   "cell_type": "code",
   "execution_count": 9,
   "metadata": {},
   "outputs": [
    {
     "data": {
      "text/plain": [
       "{0: [1, 2, 3, 5],\n",
       " 1: [0, 3, 4, 6],\n",
       " 2: [0, 3, 5],\n",
       " 3: [0, 1, 2, 4, 5, 6],\n",
       " 4: [1, 3, 6],\n",
       " 5: [0, 2, 3, 6, 7],\n",
       " 6: [1, 3, 4, 5, 7],\n",
       " 7: [8, 5, 6],\n",
       " 8: [9, 7],\n",
       " 9: [8]}"
      ]
     },
     "execution_count": 9,
     "metadata": {},
     "output_type": "execute_result"
    }
   ],
   "source": [
    "dict((x, g.neighbors(x)) for x in g.nodes())"
   ]
  },
  {
   "cell_type": "markdown",
   "metadata": {},
   "source": [
    "### Traversal"
   ]
  },
  {
   "cell_type": "code",
   "execution_count": 11,
   "metadata": {
    "collapsed": true
   },
   "outputs": [],
   "source": [
    "edges = traversal.bfs_edges(g,0)"
   ]
  },
  {
   "cell_type": "code",
   "execution_count": 12,
   "metadata": {},
   "outputs": [
    {
     "data": {
      "text/plain": [
       "[(0, 1), (0, 2), (0, 3), (0, 5), (1, 4), (1, 6), (5, 7), (7, 8), (8, 9)]"
      ]
     },
     "execution_count": 12,
     "metadata": {},
     "output_type": "execute_result"
    }
   ],
   "source": [
    "list(edges)"
   ]
  },
  {
   "cell_type": "code",
   "execution_count": 13,
   "metadata": {
    "collapsed": true
   },
   "outputs": [],
   "source": [
    "tree = traversal.bfs_tree(g,0)"
   ]
  },
  {
   "cell_type": "code",
   "execution_count": 16,
   "metadata": {},
   "outputs": [
    {
     "data": {
      "text/plain": [
       "{0: [1, 2, 3, 5], 1: [4, 6], 5: [7], 7: [8], 8: [9]}"
      ]
     },
     "execution_count": 16,
     "metadata": {},
     "output_type": "execute_result"
    }
   ],
   "source": [
    "traversal.bfs_successors(g,0)"
   ]
  },
  {
   "cell_type": "code",
   "execution_count": 17,
   "metadata": {},
   "outputs": [
    {
     "data": {
      "text/plain": [
       "{0: [1], 1: [3], 2: [5], 3: [2], 5: [6], 6: [4, 7], 7: [8], 8: [9]}"
      ]
     },
     "execution_count": 17,
     "metadata": {},
     "output_type": "execute_result"
    }
   ],
   "source": [
    "traversal.dfs_successors(g,0)"
   ]
  },
  {
   "cell_type": "code",
   "execution_count": 19,
   "metadata": {},
   "outputs": [
    {
     "data": {
      "text/plain": [
       "[0, 5]"
      ]
     },
     "execution_count": 19,
     "metadata": {},
     "output_type": "execute_result"
    }
   ],
   "source": [
    "algorithms.shortest_path(g, 0, 5)"
   ]
  },
  {
   "cell_type": "code",
   "execution_count": 20,
   "metadata": {},
   "outputs": [
    {
     "data": {
      "text/plain": [
       "[0, 5, 7]"
      ]
     },
     "execution_count": 20,
     "metadata": {},
     "output_type": "execute_result"
    }
   ],
   "source": [
    "algorithms.shortest_path(g, 0, 7)"
   ]
  },
  {
   "cell_type": "code",
   "execution_count": 21,
   "metadata": {},
   "outputs": [
    {
     "data": {
      "text/plain": [
       "1.9777777777777779"
      ]
     },
     "execution_count": 21,
     "metadata": {},
     "output_type": "execute_result"
    }
   ],
   "source": [
    "algorithms.average_shortest_path_length(g)"
   ]
  },
  {
   "cell_type": "code",
   "execution_count": 22,
   "metadata": {},
   "outputs": [
    {
     "data": {
      "text/plain": [
       "{0: {0: [0],\n",
       "  1: [0, 1],\n",
       "  2: [0, 2],\n",
       "  3: [0, 3],\n",
       "  4: [0, 1, 4],\n",
       "  5: [0, 5],\n",
       "  6: [0, 1, 6],\n",
       "  7: [0, 5, 7],\n",
       "  8: [0, 5, 7, 8],\n",
       "  9: [0, 5, 7, 8, 9]},\n",
       " 1: {0: [1, 0],\n",
       "  1: [1],\n",
       "  2: [1, 0, 2],\n",
       "  3: [1, 3],\n",
       "  4: [1, 4],\n",
       "  5: [1, 0, 5],\n",
       "  6: [1, 6],\n",
       "  7: [1, 6, 7],\n",
       "  8: [1, 6, 7, 8],\n",
       "  9: [1, 6, 7, 8, 9]},\n",
       " 2: {0: [2, 0],\n",
       "  1: [2, 0, 1],\n",
       "  2: [2],\n",
       "  3: [2, 3],\n",
       "  4: [2, 3, 4],\n",
       "  5: [2, 5],\n",
       "  6: [2, 3, 6],\n",
       "  7: [2, 5, 7],\n",
       "  8: [2, 5, 7, 8],\n",
       "  9: [2, 5, 7, 8, 9]},\n",
       " 3: {0: [3, 0],\n",
       "  1: [3, 1],\n",
       "  2: [3, 2],\n",
       "  3: [3],\n",
       "  4: [3, 4],\n",
       "  5: [3, 5],\n",
       "  6: [3, 6],\n",
       "  7: [3, 5, 7],\n",
       "  8: [3, 5, 7, 8],\n",
       "  9: [3, 5, 7, 8, 9]},\n",
       " 4: {0: [4, 1, 0],\n",
       "  1: [4, 1],\n",
       "  2: [4, 3, 2],\n",
       "  3: [4, 3],\n",
       "  4: [4],\n",
       "  5: [4, 3, 5],\n",
       "  6: [4, 6],\n",
       "  7: [4, 6, 7],\n",
       "  8: [4, 6, 7, 8],\n",
       "  9: [4, 6, 7, 8, 9]},\n",
       " 5: {0: [5, 0],\n",
       "  1: [5, 0, 1],\n",
       "  2: [5, 2],\n",
       "  3: [5, 3],\n",
       "  4: [5, 3, 4],\n",
       "  5: [5],\n",
       "  6: [5, 6],\n",
       "  7: [5, 7],\n",
       "  8: [5, 7, 8],\n",
       "  9: [5, 7, 8, 9]},\n",
       " 6: {0: [6, 1, 0],\n",
       "  1: [6, 1],\n",
       "  2: [6, 3, 2],\n",
       "  3: [6, 3],\n",
       "  4: [6, 4],\n",
       "  5: [6, 5],\n",
       "  6: [6],\n",
       "  7: [6, 7],\n",
       "  8: [6, 7, 8],\n",
       "  9: [6, 7, 8, 9]},\n",
       " 7: {0: [7, 5, 0],\n",
       "  1: [7, 6, 1],\n",
       "  2: [7, 5, 2],\n",
       "  3: [7, 5, 3],\n",
       "  4: [7, 6, 4],\n",
       "  5: [7, 5],\n",
       "  6: [7, 6],\n",
       "  7: [7],\n",
       "  8: [7, 8],\n",
       "  9: [7, 8, 9]},\n",
       " 8: {0: [8, 7, 5, 0],\n",
       "  1: [8, 7, 6, 1],\n",
       "  2: [8, 7, 5, 2],\n",
       "  3: [8, 7, 5, 3],\n",
       "  4: [8, 7, 6, 4],\n",
       "  5: [8, 7, 5],\n",
       "  6: [8, 7, 6],\n",
       "  7: [8, 7],\n",
       "  8: [8],\n",
       "  9: [8, 9]},\n",
       " 9: {0: [9, 8, 7, 5, 0],\n",
       "  1: [9, 8, 7, 6, 1],\n",
       "  2: [9, 8, 7, 5, 2],\n",
       "  3: [9, 8, 7, 5, 3],\n",
       "  4: [9, 8, 7, 6, 4],\n",
       "  5: [9, 8, 7, 5],\n",
       "  6: [9, 8, 7, 6],\n",
       "  7: [9, 8, 7],\n",
       "  8: [9, 8],\n",
       "  9: [9]}}"
      ]
     },
     "execution_count": 22,
     "metadata": {},
     "output_type": "execute_result"
    }
   ],
   "source": [
    "algorithms.all_pairs_shortest_path(g)"
   ]
  },
  {
   "cell_type": "code",
   "execution_count": 23,
   "metadata": {},
   "outputs": [
    {
     "data": {
      "text/plain": [
       "{0: [5, 0],\n",
       " 1: [5, 0, 1],\n",
       " 2: [5, 2],\n",
       " 3: [5, 3],\n",
       " 4: [5, 3, 4],\n",
       " 5: [5],\n",
       " 6: [5, 6],\n",
       " 7: [5, 7],\n",
       " 8: [5, 7, 8],\n",
       " 9: [5, 7, 8, 9]}"
      ]
     },
     "execution_count": 23,
     "metadata": {},
     "output_type": "execute_result"
    }
   ],
   "source": [
    "algorithms.all_pairs_shortest_path(g)[5]"
   ]
  },
  {
   "cell_type": "code",
   "execution_count": 24,
   "metadata": {},
   "outputs": [
    {
     "data": {
      "text/plain": [
       "[1, 0, 5]"
      ]
     },
     "execution_count": 24,
     "metadata": {},
     "output_type": "execute_result"
    }
   ],
   "source": [
    "algorithms.dijkstra_path(g, 1, 5)"
   ]
  },
  {
   "cell_type": "code",
   "execution_count": 27,
   "metadata": {},
   "outputs": [
    {
     "data": {
      "text/plain": [
       "({0: [1],\n",
       "  1: [],\n",
       "  2: [0, 3],\n",
       "  3: [1],\n",
       "  4: [1],\n",
       "  5: [0, 3, 6],\n",
       "  6: [1],\n",
       "  7: [6],\n",
       "  8: [7],\n",
       "  9: [8]},\n",
       " {0: 1, 1: 0, 2: 2, 3: 1, 4: 1, 5: 2, 6: 1, 7: 2, 8: 3, 9: 4})"
      ]
     },
     "execution_count": 27,
     "metadata": {},
     "output_type": "execute_result"
    }
   ],
   "source": [
    "algorithms.dijkstra_predecessor_and_distance(g, 1, 5)"
   ]
  },
  {
   "cell_type": "code",
   "execution_count": 28,
   "metadata": {
    "collapsed": true
   },
   "outputs": [],
   "source": [
    "import itertools"
   ]
  },
  {
   "cell_type": "code",
   "execution_count": 29,
   "metadata": {},
   "outputs": [
    {
     "data": {
      "text/plain": [
       "[0, 1, 2, 3, 4, 5, 6, 7, 8, 9]"
      ]
     },
     "execution_count": 29,
     "metadata": {},
     "output_type": "execute_result"
    }
   ],
   "source": [
    "g.nodes()"
   ]
  },
  {
   "cell_type": "code",
   "execution_count": 30,
   "metadata": {},
   "outputs": [
    {
     "data": {
      "text/plain": [
       "[(0, 1),\n",
       " (0, 2),\n",
       " (0, 3),\n",
       " (0, 4),\n",
       " (0, 5),\n",
       " (0, 6),\n",
       " (0, 7),\n",
       " (0, 8),\n",
       " (0, 9),\n",
       " (1, 2),\n",
       " (1, 3),\n",
       " (1, 4),\n",
       " (1, 5),\n",
       " (1, 6),\n",
       " (1, 7),\n",
       " (1, 8),\n",
       " (1, 9),\n",
       " (2, 3),\n",
       " (2, 4),\n",
       " (2, 5),\n",
       " (2, 6),\n",
       " (2, 7),\n",
       " (2, 8),\n",
       " (2, 9),\n",
       " (3, 4),\n",
       " (3, 5),\n",
       " (3, 6),\n",
       " (3, 7),\n",
       " (3, 8),\n",
       " (3, 9),\n",
       " (4, 5),\n",
       " (4, 6),\n",
       " (4, 7),\n",
       " (4, 8),\n",
       " (4, 9),\n",
       " (5, 6),\n",
       " (5, 7),\n",
       " (5, 8),\n",
       " (5, 9),\n",
       " (6, 7),\n",
       " (6, 8),\n",
       " (6, 9),\n",
       " (7, 8),\n",
       " (7, 9),\n",
       " (8, 9)]"
      ]
     },
     "execution_count": 30,
     "metadata": {},
     "output_type": "execute_result"
    }
   ],
   "source": [
    "list(itertools.combinations(g.nodes(), 2))"
   ]
  },
  {
   "cell_type": "code",
   "execution_count": 31,
   "metadata": {
    "collapsed": true
   },
   "outputs": [],
   "source": [
    "nn = g.nodes()"
   ]
  },
  {
   "cell_type": "code",
   "execution_count": 33,
   "metadata": {},
   "outputs": [
    {
     "data": {
      "text/plain": [
       "[(0, 1), (0, 2), (0, 3), (1, 2), (1, 3), (2, 3)]"
      ]
     },
     "execution_count": 33,
     "metadata": {},
     "output_type": "execute_result"
    }
   ],
   "source": [
    "pairs = list(itertools.combinations(nn[:4], 2))\n",
    "pairs"
   ]
  },
  {
   "cell_type": "code",
   "execution_count": 34,
   "metadata": {},
   "outputs": [
    {
     "name": "stdout",
     "output_type": "stream",
     "text": [
      "[0, 1] [0, 1]\n",
      "[0, 2] [0, 2]\n",
      "[0, 3] [0, 3]\n",
      "[0, 1, 4] [0, 1, 4]\n",
      "[0, 5] [0, 5]\n",
      "[0, 1, 6] [0, 1, 6]\n",
      "[0, 5, 7] [0, 5, 7]\n",
      "[1, 0, 2] [1, 0, 2]\n",
      "[1, 3] [1, 3]\n",
      "[1, 4] [1, 4]\n",
      "[1, 0, 5] [1, 0, 5]\n",
      "[1, 6] [1, 6]\n",
      "[1, 6, 7] [1, 6, 7]\n",
      "[2, 3] [2, 3]\n",
      "[2, 3, 4] [2, 3, 4]\n",
      "[2, 5] [2, 5]\n",
      "[2, 3, 6] [2, 3, 6]\n",
      "[2, 5, 7] [2, 5, 7]\n",
      "[3, 4] [3, 4]\n",
      "[3, 5] [3, 5]\n",
      "[3, 6] [3, 6]\n",
      "[3, 5, 7] [3, 5, 7]\n",
      "[4, 3, 5] [4, 3, 5]\n",
      "[4, 6] [4, 6]\n",
      "[4, 6, 7] [4, 6, 7]\n",
      "[5, 6] [5, 6]\n",
      "[5, 7] [5, 7]\n",
      "[6, 7] [6, 7]\n"
     ]
    }
   ],
   "source": [
    "for pair in itertools.combinations(nn[:8], 2):\n",
    "    print algorithms.shortest_path(g, *pair), algorithms.dijkstra_path(g, *pair)"
   ]
  },
  {
   "cell_type": "code",
   "execution_count": 35,
   "metadata": {
    "collapsed": true
   },
   "outputs": [],
   "source": [
    "from random import choice"
   ]
  },
  {
   "cell_type": "code",
   "execution_count": null,
   "metadata": {},
   "outputs": [],
   "source": [
    "new_edges = [x + (choice(range(10)), ) for x in ee]"
   ]
  },
  {
   "cell_type": "code",
   "execution_count": null,
   "metadata": {
    "collapsed": true
   },
   "outputs": [],
   "source": []
  }
 ],
 "metadata": {
  "kernelspec": {
   "display_name": "Python 2",
   "language": "python",
   "name": "python2"
  },
  "language_info": {
   "codemirror_mode": {
    "name": "ipython",
    "version": 2
   },
   "file_extension": ".py",
   "mimetype": "text/x-python",
   "name": "python",
   "nbconvert_exporter": "python",
   "pygments_lexer": "ipython2",
   "version": "2.7.10"
  }
 },
 "nbformat": 4,
 "nbformat_minor": 2
}

{
 "cells": [
  {
   "cell_type": "code",
   "execution_count": 8,
   "metadata": {},
   "outputs": [],
   "source": [
    "import nltk\n",
    "from nltk.corpus import gutenberg"
   ]
  },
  {
   "cell_type": "code",
   "execution_count": 2,
   "metadata": {},
   "outputs": [
    {
     "data": {
      "text/plain": [
       "[u'austen-emma.txt',\n",
       " u'austen-persuasion.txt',\n",
       " u'austen-sense.txt',\n",
       " u'bible-kjv.txt',\n",
       " u'blake-poems.txt',\n",
       " u'bryant-stories.txt',\n",
       " u'burgess-busterbrown.txt',\n",
       " u'carroll-alice.txt',\n",
       " u'chesterton-ball.txt',\n",
       " u'chesterton-brown.txt',\n",
       " u'chesterton-thursday.txt',\n",
       " u'edgeworth-parents.txt',\n",
       " u'melville-moby_dick.txt',\n",
       " u'milton-paradise.txt',\n",
       " u'shakespeare-caesar.txt',\n",
       " u'shakespeare-hamlet.txt',\n",
       " u'shakespeare-macbeth.txt',\n",
       " u'whitman-leaves.txt']"
      ]
     },
     "execution_count": 2,
     "metadata": {},
     "output_type": "execute_result"
    }
   ],
   "source": [
    "nltk.corpus.gutenberg.fileids()"
   ]
  },
  {
   "cell_type": "code",
   "execution_count": 4,
   "metadata": {},
   "outputs": [
    {
     "data": {
      "text/plain": [
       "192427"
      ]
     },
     "execution_count": 4,
     "metadata": {},
     "output_type": "execute_result"
    }
   ],
   "source": [
    "emma = nltk.corpus.gutenberg.words('austen-emma.txt')\n",
    "len(emma)"
   ]
  },
  {
   "cell_type": "code",
   "execution_count": 7,
   "metadata": {},
   "outputs": [
    {
     "name": "stdout",
     "output_type": "stream",
     "text": [
      "Displaying 25 of 25 matches:\n",
      "her father , was sometimes taken by surprize at his being still able to pity ` p\n",
      "them do the other any good .\" \" You surprize me ! Emma must do Harriet good : an\n",
      " Knightley actually looked red with surprize and displeasure , as he stood up , \n",
      "Mr . Elton , and found to his great surprize , that Mr . Elton was actually on h\n",
      "nd aid .\" Emma saw Mrs . Weston ' s surprize , and felt that it must be great , \n",
      " father was quite taken up with the surprize of so sudden a journey , and his fe\n",
      "cy , in all the favouring warmth of surprize and conjecture . She was , moreover\n",
      "she appeared , to have her share of surprize , introduction , and pleasure . The\n",
      "eir plans ; and it was an agreeable surprize to her , therefore , to perceive th\n",
      " talking aunt had taken me quite by surprize , it must have been the death of me\n",
      "of all the dialogue which ensued of surprize , and inquiry , and congratulations\n",
      "e the present . They might chuse to surprize her .\" Mrs . Cole had many to agree\n",
      " the mode of it , the mystery , the surprize , is more like a young woman ' s sc\n",
      "t to her song took her agreeably by surprize -- a second , slightly but correctl\n",
      ".\" \" Oh ! no -- there is nothing to surprize one at all .-- A pretty fortune ; a\n",
      "nt to be considered . Emma ' s only surprize was that Jane Fairfax should accept\n",
      " of your admiration may take you by surprize some day or other .\" Mr . Knightley\n",
      "ration for her will ever take me by surprize .-- I never had a thought of her in\n",
      "h expected by the best judges , for surprize -- but there was great joy . Mr . W\n",
      "e sound of at first , without great surprize . \" So unreasonably early !\" she wa\n",
      "ed Frank Churchill , with a look of surprize and displeasure .-- \" That is easy \n",
      " ; and Emma could imagine with what surprize and mortification she must be retur\n",
      "ttled that Jane should go . Quite a surprize to me ! I had not the least idea !-\n",
      "d . It is impossible to express our surprize . He came to speak to his father on\n",
      "ng engaged !\" Emma even jumped with surprize ;-- and , horror - struck , exclaim\n"
     ]
    }
   ],
   "source": [
    "emma = nltk.Text(emma)\n",
    "emma.concordance(\"surprize\")"
   ]
  },
  {
   "cell_type": "code",
   "execution_count": 10,
   "metadata": {},
   "outputs": [
    {
     "name": "stdout",
     "output_type": "stream",
     "text": [
      "(5.0, 25.0, 26.0, u'austen-emma.txt')\n",
      "(5.0, 26.0, 17.0, u'austen-persuasion.txt')\n",
      "(5.0, 28.0, 22.0, u'austen-sense.txt')\n",
      "(4.0, 34.0, 79.0, u'bible-kjv.txt')\n",
      "(5.0, 19.0, 5.0, u'blake-poems.txt')\n",
      "(4.0, 19.0, 14.0, u'bryant-stories.txt')\n",
      "(4.0, 18.0, 12.0, u'burgess-busterbrown.txt')\n",
      "(4.0, 20.0, 13.0, u'carroll-alice.txt')\n",
      "(5.0, 20.0, 12.0, u'chesterton-ball.txt')\n",
      "(5.0, 23.0, 11.0, u'chesterton-brown.txt')\n",
      "(5.0, 18.0, 11.0, u'chesterton-thursday.txt')\n",
      "(4.0, 21.0, 25.0, u'edgeworth-parents.txt')\n",
      "(5.0, 26.0, 15.0, u'melville-moby_dick.txt')\n",
      "(5.0, 52.0, 11.0, u'milton-paradise.txt')\n",
      "(4.0, 12.0, 9.0, u'shakespeare-caesar.txt')\n",
      "(4.0, 12.0, 8.0, u'shakespeare-hamlet.txt')\n",
      "(4.0, 12.0, 7.0, u'shakespeare-macbeth.txt')\n",
      "(5.0, 36.0, 12.0, u'whitman-leaves.txt')\n"
     ]
    }
   ],
   "source": [
    "for fileid in gutenberg.fileids():\n",
    "    num_chars = float(len(gutenberg.raw(fileid)))\n",
    "    num_words = float(len(gutenberg.words(fileid)))\n",
    "    num_sents = float(len(gutenberg.sents(fileid)))\n",
    "    num_vocab = len(set(w.lower() for w in gutenberg.words(fileid)))\n",
    "    print(round(num_chars/num_words), round(num_words/num_sents), round(num_words/num_vocab), fileid)"
   ]
  },
  {
   "cell_type": "code",
   "execution_count": null,
   "metadata": {},
   "outputs": [],
   "source": []
  }
 ],
 "metadata": {
  "kernelspec": {
   "display_name": "Python 2",
   "language": "python",
   "name": "python2"
  },
  "language_info": {
   "codemirror_mode": {
    "name": "ipython",
    "version": 2
   },
   "file_extension": ".py",
   "mimetype": "text/x-python",
   "name": "python",
   "nbconvert_exporter": "python",
   "pygments_lexer": "ipython2",
   "version": "2.7.15"
  }
 },
 "nbformat": 4,
 "nbformat_minor": 2
}

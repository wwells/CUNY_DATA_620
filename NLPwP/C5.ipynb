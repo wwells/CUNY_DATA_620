{
 "cells": [
  {
   "cell_type": "code",
   "execution_count": 1,
   "metadata": {},
   "outputs": [],
   "source": [
    "import nltk"
   ]
  },
  {
   "cell_type": "code",
   "execution_count": 2,
   "metadata": {},
   "outputs": [],
   "source": [
    "def findtags(tag_prefix, tagged_text):\n",
    "    cfd = nltk.ConditionalFreqDist((tag, word) for (word, tag) in tagged_text\n",
    "                                  if tag.startswith(tag_prefix))\n",
    "    return dict((tag, cfd[tag].most_common(5)) for tag in cfd.conditions())"
   ]
  },
  {
   "cell_type": "code",
   "execution_count": 3,
   "metadata": {},
   "outputs": [
    {
     "name": "stdout",
     "output_type": "stream",
     "text": [
      "(u'NN', [(u'year', 137), (u'time', 97), (u'state', 88), (u'week', 85), (u'man', 72)])\n",
      "(u'NN$', [(u\"year's\", 13), (u\"world's\", 8), (u\"state's\", 7), (u\"nation's\", 6), (u\"company's\", 6)])\n",
      "(u'NN$-HL', [(u\"Golf's\", 1), (u\"Navy's\", 1)])\n",
      "(u'NN$-TL', [(u\"President's\", 11), (u\"University's\", 3), (u\"League's\", 3), (u\"Gallery's\", 3), (u\"Army's\", 3)])\n",
      "(u'NN-HL', [(u'cut', 2), (u'Salary', 2), (u'condition', 2), (u'Question', 2), (u'business', 2)])\n",
      "(u'NN-NC', [(u'eva', 1), (u'ova', 1), (u'aya', 1)])\n",
      "(u'NN-TL', [(u'President', 88), (u'House', 68), (u'State', 59), (u'University', 42), (u'City', 41)])\n",
      "(u'NN-TL-HL', [(u'Fort', 2), (u'City', 1), (u'Commissioner', 1), (u'Grove', 1), (u'House', 1)])\n",
      "(u'NNS', [(u'years', 101), (u'members', 69), (u'people', 52), (u'sales', 51), (u'men', 46)])\n",
      "(u'NNS$', [(u\"children's\", 7), (u\"women's\", 5), (u\"men's\", 3), (u\"janitors'\", 3), (u\"taxpayers'\", 2)])\n",
      "(u'NNS$-HL', [(u\"Dealers'\", 1), (u\"Idols'\", 1)])\n",
      "(u'NNS$-TL', [(u\"Women's\", 4), (u\"States'\", 3), (u\"Giants'\", 2), (u\"Officers'\", 1), (u\"Bombers'\", 1)])\n",
      "(u'NNS-HL', [(u'years', 1), (u'idols', 1), (u'Creations', 1), (u'thanks', 1), (u'centers', 1)])\n",
      "(u'NNS-TL', [(u'States', 38), (u'Nations', 11), (u'Masters', 10), (u'Rules', 9), (u'Communists', 9)])\n",
      "(u'NNS-TL-HL', [(u'Nations', 1)])\n"
     ]
    }
   ],
   "source": [
    "tagdict = findtags('NN', nltk.corpus.brown.tagged_words(categories='news'))\n",
    "for tag in sorted(tagdict):\n",
    "    print(tag, tagdict[tag])"
   ]
  },
  {
   "cell_type": "code",
   "execution_count": 4,
   "metadata": {},
   "outputs": [],
   "source": [
    "alice = nltk.corpus.gutenberg.words('carroll-alice.txt')"
   ]
  },
  {
   "cell_type": "code",
   "execution_count": 6,
   "metadata": {},
   "outputs": [
    {
     "data": {
      "text/plain": [
       "['UNK',\n",
       " u'Alice',\n",
       " u\"'\",\n",
       " u's',\n",
       " u'Adventures',\n",
       " u'in',\n",
       " u'Wonderland',\n",
       " u'by',\n",
       " 'UNK',\n",
       " 'UNK',\n",
       " 'UNK',\n",
       " 'UNK',\n",
       " u'CHAPTER',\n",
       " u'I',\n",
       " u'.',\n",
       " 'UNK',\n",
       " u'the',\n",
       " u'Rabbit',\n",
       " u'-',\n",
       " 'UNK',\n",
       " u'Alice',\n",
       " u'was',\n",
       " u'beginning',\n",
       " u'to',\n",
       " u'get',\n",
       " u'very',\n",
       " u'tired',\n",
       " u'of',\n",
       " u'sitting',\n",
       " u'by',\n",
       " u'her',\n",
       " u'sister',\n",
       " u'on',\n",
       " u'the',\n",
       " u'bank',\n",
       " u',',\n",
       " u'and',\n",
       " u'of',\n",
       " u'having',\n",
       " u'nothing',\n",
       " u'to',\n",
       " u'do',\n",
       " u':',\n",
       " u'once',\n",
       " u'or',\n",
       " u'twice',\n",
       " u'she',\n",
       " u'had',\n",
       " 'UNK',\n",
       " u'into',\n",
       " u'the',\n",
       " u'book',\n",
       " u'her',\n",
       " u'sister',\n",
       " u'was',\n",
       " 'UNK',\n",
       " u',',\n",
       " u'but',\n",
       " u'it',\n",
       " u'had',\n",
       " u'no',\n",
       " u'pictures',\n",
       " u'or',\n",
       " 'UNK',\n",
       " u'in',\n",
       " u'it',\n",
       " u',',\n",
       " u\"'\",\n",
       " u'and',\n",
       " u'what',\n",
       " u'is',\n",
       " u'the',\n",
       " u'use',\n",
       " u'of',\n",
       " u'a',\n",
       " u'book',\n",
       " u\",'\",\n",
       " u'thought',\n",
       " u'Alice',\n",
       " u\"'\",\n",
       " u'without',\n",
       " u'pictures',\n",
       " u'or',\n",
       " u'conversation',\n",
       " u\"?'\",\n",
       " u'So',\n",
       " u'she',\n",
       " u'was',\n",
       " 'UNK',\n",
       " u'in',\n",
       " u'her',\n",
       " u'own',\n",
       " u'mind',\n",
       " u'(',\n",
       " u'as',\n",
       " u'well',\n",
       " u'as',\n",
       " u'she',\n",
       " u'could',\n",
       " u',']"
      ]
     },
     "execution_count": 6,
     "metadata": {},
     "output_type": "execute_result"
    }
   ],
   "source": [
    "from collections import defaultdict\n",
    "vocab = nltk.FreqDist(alice)\n",
    "v1000 = [word for (word, _) in vocab.most_common(1000)]\n",
    "mapping = defaultdict(lambda: 'UNK')\n",
    "for v in v1000:\n",
    "    mapping[v] = v\n",
    "\n",
    "alice2 = [mapping[v] for v in alice]\n",
    "alice2[:100]"
   ]
  },
  {
   "cell_type": "code",
   "execution_count": 7,
   "metadata": {},
   "outputs": [],
   "source": [
    "counts = defaultdict(int)\n",
    "from nltk.corpus import brown\n",
    "for (word, tag) in brown.tagged_words(categories='news', tagset='universal'):\n",
    "    counts[tag] += 1"
   ]
  },
  {
   "cell_type": "code",
   "execution_count": 8,
   "metadata": {},
   "outputs": [
    {
     "data": {
      "text/plain": [
       "defaultdict(int,\n",
       "            {u'.': 11928,\n",
       "             u'ADJ': 6706,\n",
       "             u'ADP': 12355,\n",
       "             u'ADV': 3349,\n",
       "             u'CONJ': 2717,\n",
       "             u'DET': 11389,\n",
       "             u'NOUN': 30654,\n",
       "             u'NUM': 2166,\n",
       "             u'PRON': 2535,\n",
       "             u'PRT': 2264,\n",
       "             u'VERB': 14399,\n",
       "             u'X': 92})"
      ]
     },
     "execution_count": 8,
     "metadata": {},
     "output_type": "execute_result"
    }
   ],
   "source": [
    "counts "
   ]
  },
  {
   "cell_type": "code",
   "execution_count": 10,
   "metadata": {},
   "outputs": [
    {
     "data": {
      "text/plain": [
       "[(u'NOUN', 30654),\n",
       " (u'VERB', 14399),\n",
       " (u'ADP', 12355),\n",
       " (u'.', 11928),\n",
       " (u'DET', 11389),\n",
       " (u'ADJ', 6706),\n",
       " (u'ADV', 3349),\n",
       " (u'CONJ', 2717),\n",
       " (u'PRON', 2535),\n",
       " (u'PRT', 2264),\n",
       " (u'NUM', 2166),\n",
       " (u'X', 92)]"
      ]
     },
     "execution_count": 10,
     "metadata": {},
     "output_type": "execute_result"
    }
   ],
   "source": [
    "from operator import itemgetter\n",
    "sorted(counts.items(), key=itemgetter(1), reverse=True)"
   ]
  },
  {
   "cell_type": "markdown",
   "metadata": {},
   "source": [
    "### Tagging"
   ]
  },
  {
   "cell_type": "code",
   "execution_count": 11,
   "metadata": {},
   "outputs": [],
   "source": [
    "from nltk.corpus import brown\n",
    "brown_tagged_sents = brown.tagged_sents(categories='news')\n",
    "brown_sents = brown.sents(categories='news')"
   ]
  },
  {
   "cell_type": "code",
   "execution_count": 12,
   "metadata": {},
   "outputs": [],
   "source": [
    "sent = brown.sents(categories='news')[3]"
   ]
  },
  {
   "cell_type": "code",
   "execution_count": 13,
   "metadata": {},
   "outputs": [],
   "source": [
    "fd = nltk.FreqDist(brown.words(categories='news'))\n",
    "cfd = nltk.ConditionalFreqDist(brown.tagged_words(categories='news'))\n",
    "most_freq_words = fd.most_common(100)\n",
    "likely_tags = dict((word, cfd[word].max()) for (word, _) in most_freq_words)"
   ]
  },
  {
   "cell_type": "code",
   "execution_count": 15,
   "metadata": {},
   "outputs": [],
   "source": [
    "baseline_tagger = nltk.UnigramTagger(model=likely_tags, backoff=nltk.DefaultTagger('NN'))"
   ]
  },
  {
   "cell_type": "code",
   "execution_count": 16,
   "metadata": {},
   "outputs": [],
   "source": [
    "def performance(cfd, wordlist):\n",
    "    lt = dict((word, cfd[word].max()) for word in wordlist)\n",
    "    baseline_tagger = nltk.UnigramTagger(model=lt, backoff=nltk.DefaultTagger('NN'))\n",
    "    return baseline_tagger.evaluate(brown.tagged_sents(categories='news'))\n",
    "\n",
    "def display():\n",
    "    import pylab\n",
    "    word_freqs = nltk.FreqDist(brown.words(categories='news')).most_common()\n",
    "    words_by_freq = [w for (w, _) in word_freqs]\n",
    "    cfd = nltk.ConditionalFreqDist(brown.tagged_words(categories='news'))\n",
    "    sizes = 2 ** pylab.arange(15)\n",
    "    perfs = [performance(cfd, words_by_freq[:size]) for size in sizes]\n",
    "    pylab.plot(sizes, perfs, '-bo')\n",
    "    pylab.title('Lookup Tagger Performance with Varying Model Size')\n",
    "    pylab.xlabel('Model Size')\n",
    "    pylab.ylabel('Performance')\n",
    "    pylab.show()"
   ]
  },
  {
   "cell_type": "code",
   "execution_count": 18,
   "metadata": {},
   "outputs": [
    {
     "data": {
      "image/png": "[encoded data removed]",
      "text/plain": [
       "<Figure size 432x288 with 1 Axes>"
      ]
     },
     "metadata": {},
     "output_type": "display_data"
    }
   ],
   "source": [
    "%matplotlib inline\n",
    "display()  "
   ]
  },
  {
   "cell_type": "markdown",
   "metadata": {},
   "source": [
    "### N-Gram Tagging"
   ]
  },
  {
   "cell_type": "code",
   "execution_count": 19,
   "metadata": {},
   "outputs": [
    {
     "name": "stdout",
     "output_type": "stream",
     "text": [
      "4160\n"
     ]
    },
    {
     "data": {
      "text/plain": [
       "0.8120203329014253"
      ]
     },
     "execution_count": 19,
     "metadata": {},
     "output_type": "execute_result"
    }
   ],
   "source": [
    "size = int(len(brown_tagged_sents) * 0.9)\n",
    "print(size)\n",
    "\n",
    "train_sents = brown_tagged_sents[:size]\n",
    "test_sents = brown_tagged_sents[size:]\n",
    "unigram_tagger = nltk.UnigramTagger(train_sents)\n",
    "unigram_tagger.evaluate(test_sents)"
   ]
  },
  {
   "cell_type": "code",
   "execution_count": 20,
   "metadata": {},
   "outputs": [],
   "source": [
    "bigram_tagger = nltk.BigramTagger(train_sents)"
   ]
  },
  {
   "cell_type": "code",
   "execution_count": 21,
   "metadata": {},
   "outputs": [
    {
     "data": {
      "text/plain": [
       "[(u'Various', u'JJ'),\n",
       " (u'of', u'IN'),\n",
       " (u'the', u'AT'),\n",
       " (u'apartments', u'NNS'),\n",
       " (u'are', u'BER'),\n",
       " (u'of', u'IN'),\n",
       " (u'the', u'AT'),\n",
       " (u'terrace', u'NN'),\n",
       " (u'type', u'NN'),\n",
       " (u',', u','),\n",
       " (u'being', u'BEG'),\n",
       " (u'on', u'IN'),\n",
       " (u'the', u'AT'),\n",
       " (u'ground', u'NN'),\n",
       " (u'floor', u'NN'),\n",
       " (u'so', u'CS'),\n",
       " (u'that', u'CS'),\n",
       " (u'entrance', u'NN'),\n",
       " (u'is', u'BEZ'),\n",
       " (u'direct', u'JJ'),\n",
       " (u'.', u'.')]"
      ]
     },
     "execution_count": 21,
     "metadata": {},
     "output_type": "execute_result"
    }
   ],
   "source": [
    "bigram_tagger.tag(brown_sents[2007])"
   ]
  },
  {
   "cell_type": "code",
   "execution_count": 22,
   "metadata": {},
   "outputs": [
    {
     "data": {
      "text/plain": [
       "0.10276088906608193"
      ]
     },
     "execution_count": 22,
     "metadata": {},
     "output_type": "execute_result"
    }
   ],
   "source": [
    "bigram_tagger.evaluate(test_sents)"
   ]
  },
  {
   "cell_type": "code",
   "execution_count": 23,
   "metadata": {},
   "outputs": [
    {
     "data": {
      "text/plain": [
       "0.844911791089405"
      ]
     },
     "execution_count": 23,
     "metadata": {},
     "output_type": "execute_result"
    }
   ],
   "source": [
    "t0 = nltk.DefaultTagger('NN')\n",
    "t1 = nltk.UnigramTagger(train_sents, backoff=t0)\n",
    "t2 = nltk.BigramTagger(train_sents, backoff=t1)\n",
    "t2.evaluate(test_sents)"
   ]
  },
  {
   "cell_type": "code",
   "execution_count": null,
   "metadata": {},
   "outputs": [],
   "source": []
  }
 ],
 "metadata": {
  "kernelspec": {
   "display_name": "Python 2",
   "language": "python",
   "name": "python2"
  },
  "language_info": {
   "codemirror_mode": {
    "name": "ipython",
    "version": 2
   },
   "file_extension": ".py",
   "mimetype": "text/x-python",
   "name": "python",
   "nbconvert_exporter": "python",
   "pygments_lexer": "ipython2",
   "version": "2.7.15"
  }
 },
 "nbformat": 4,
 "nbformat_minor": 2
}
